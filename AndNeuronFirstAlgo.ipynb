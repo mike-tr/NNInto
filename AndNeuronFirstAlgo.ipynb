{
 "metadata": {
  "language_info": {
   "codemirror_mode": {
    "name": "ipython",
    "version": 3
   },
   "file_extension": ".py",
   "mimetype": "text/x-python",
   "name": "python",
   "nbconvert_exporter": "python",
   "pygments_lexer": "ipython3",
   "version": "3.9.2-final"
  },
  "orig_nbformat": 2,
  "kernelspec": {
   "name": "python3",
   "display_name": "Python 3.9.2 64-bit ('cv': conda)",
   "metadata": {
    "interpreter": {
     "hash": "b47b01fbeacb6918fe178353ac26b8951e929afac8e10f32a05608fcfdb3257b"
    }
   }
  }
 },
 "nbformat": 4,
 "nbformat_minor": 2,
 "cells": [
  {
   "cell_type": "code",
   "execution_count": 1,
   "metadata": {},
   "outputs": [],
   "source": [
    "import numpy as np\n",
    "from neuron import Neuron"
   ]
  },
  {
   "source": [
    "## Test on AND "
   ],
   "cell_type": "markdown",
   "metadata": {}
  },
  {
   "cell_type": "code",
   "execution_count": 2,
   "metadata": {},
   "outputs": [
    {
     "output_type": "execute_result",
     "data": {
      "text/plain": [
       "array([[0, 0, 0],\n",
       "       [0, 1, 0],\n",
       "       [1, 0, 0],\n",
       "       [1, 1, 1]])"
      ]
     },
     "metadata": {},
     "execution_count": 2
    }
   ],
   "source": [
    "# AND table\n",
    "data = np.array([\n",
    "    # A  B  O\n",
    "    [0, 0, 0],\n",
    "    [0, 1, 0],\n",
    "    [1, 0, 0],\n",
    "    [1, 1, 1],\n",
    "])\n",
    "data"
   ]
  },
  {
   "cell_type": "code",
   "execution_count": 3,
   "metadata": {},
   "outputs": [
    {
     "output_type": "stream",
     "name": "stdout",
     "text": [
      "[[0 0]\n [0 1]\n [1 0]\n [1 1]]\n[[0]\n [0]\n [0]\n [1]]\n"
     ]
    }
   ],
   "source": [
    "x = data[:, :-1]\n",
    "y = data[:, -1:]\n",
    "\n",
    "print(x)\n",
    "print(y)"
   ]
  },
  {
   "source": [
    "## Add bias to input"
   ],
   "cell_type": "markdown",
   "metadata": {}
  },
  {
   "cell_type": "code",
   "execution_count": 4,
   "metadata": {},
   "outputs": [
    {
     "output_type": "execute_result",
     "data": {
      "text/plain": [
       "array([[0., 0., 1.],\n",
       "       [0., 1., 1.],\n",
       "       [1., 0., 1.],\n",
       "       [1., 1., 1.]])"
      ]
     },
     "metadata": {},
     "execution_count": 4
    }
   ],
   "source": [
    "x_bias = np.ones((x.shape[0], 1))\n",
    "x_train = np.c_[x, x_bias]\n",
    "x_train"
   ]
  },
  {
   "source": [
    "## Create neuron and train\n",
    "* we train by looping over all examples untill the neuron do not fails or we run more then 100 times."
   ],
   "cell_type": "markdown",
   "metadata": {}
  },
  {
   "cell_type": "code",
   "execution_count": 5,
   "metadata": {},
   "outputs": [
    {
     "output_type": "execute_result",
     "data": {
      "text/plain": [
       "array([[0.],\n",
       "       [0.],\n",
       "       [0.]])"
      ]
     },
     "metadata": {},
     "execution_count": 5
    }
   ],
   "source": [
    "n = Neuron(x_train, y)\n",
    "n.weights"
   ]
  },
  {
   "cell_type": "code",
   "execution_count": 8,
   "metadata": {},
   "outputs": [
    {
     "output_type": "stream",
     "name": "stdout",
     "text": [
      "\n-------- run 0 --------\nprediction : 0 , actual : 0\nprediction : 0 , actual : 0\nprediction : 0 , actual : 0\nprediction : 0 , actual : 1\nEnd of run Num of Errors : 1\nweights : \n[[0.33333333]\n [0.33333333]\n [0.33333333]]\n\n-------- run 1 --------\nprediction : 1 , actual : 0\nprediction : 0 , actual : 0\nprediction : 0 , actual : 0\nprediction : 0 , actual : 1\nEnd of run Num of Errors : 2\nweights : \n[[ 0.66666667]\n [ 0.66666667]\n [-0.33333333]]\n\n-------- run 2 --------\nprediction : 0 , actual : 0\nprediction : 1 , actual : 0\nprediction : 0 , actual : 0\nprediction : 0 , actual : 1\nEnd of run Num of Errors : 2\nweights : \n[[ 1. ]\n [ 0.5]\n [-0.5]]\n\n-------- run 3 --------\nprediction : 0 , actual : 0\nprediction : 0 , actual : 0\nprediction : 1 , actual : 0\nprediction : 0 , actual : 1\nEnd of run Num of Errors : 2\nweights : \n[[ 0.83333333]\n [ 0.83333333]\n [-0.66666667]]\n\n-------- run 4 --------\nprediction : 0 , actual : 0\nprediction : 1 , actual : 0\nprediction : 0 , actual : 0\nprediction : 0 , actual : 1\nEnd of run Num of Errors : 2\nweights : \n[[ 1.16666667]\n [ 0.66666667]\n [-0.83333333]]\n\n-------- run 5 --------\nprediction : 0 , actual : 0\nprediction : 0 , actual : 0\nprediction : 1 , actual : 0\nprediction : 0 , actual : 1\nEnd of run Num of Errors : 2\nweights : \n[[ 1.]\n [ 1.]\n [-1.]]\n\n-------- run 6 --------\nprediction : 0 , actual : 0\nprediction : 0 , actual : 0\nprediction : 0 , actual : 0\nprediction : 1 , actual : 1\n"
     ]
    }
   ],
   "source": [
    "n = Neuron(x_train, y)\n",
    "\n",
    "end_run = -1\n",
    "\n",
    "for i in range(100):\n",
    "    print(\"\\n-------- run\", i, \"--------\")\n",
    "    err = 0\n",
    "    done = True\n",
    "    for j in range(x_train.shape[0]):\n",
    "        pred = n.predict(x_train[j])\n",
    "        actual = y[j]\n",
    "        print(\"prediction :\", pred, \", actual :\", actual[0])\n",
    "        change = n.train_one(x_train[j], actual)\n",
    "        if change:\n",
    "            err += 1\n",
    "            done = False\n",
    "    if done:\n",
    "        end_run = i\n",
    "        break\n",
    "    else:\n",
    "        print(\"End of run Num of Errors :\", err)\n",
    "        print(\"weights : \")\n",
    "        print(n.weights)"
   ]
  },
  {
   "cell_type": "code",
   "execution_count": 7,
   "metadata": {},
   "outputs": [
    {
     "output_type": "stream",
     "name": "stdout",
     "text": [
      "\n------ training done ------\ntraining done on run : 6\nfinal weights :\n[[ 1.]\n [ 1.]\n [-1.]]\n"
     ]
    }
   ],
   "source": [
    "print(\"\\n------ training done ------\")\n",
    "print(\"training done on run :\", end_run)\n",
    "print(\"final weights :\")\n",
    "print(n.weights)"
   ]
  }
 ]
}